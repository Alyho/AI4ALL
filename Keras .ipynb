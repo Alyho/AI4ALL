{
 "cells": [
  {
   "cell_type": "code",
   "execution_count": 1,
   "metadata": {},
   "outputs": [],
   "source": [
    "import numpy as np"
   ]
  },
  {
   "cell_type": "code",
   "execution_count": 2,
   "metadata": {},
   "outputs": [
    {
     "name": "stdout",
     "output_type": "stream",
     "text": [
      "(1000, 32, 32, 3)\n"
     ]
    }
   ],
   "source": [
    "rand_data = np.random.random((1000, 32, 32, 3))\n",
    "rand_label = np.array([0]*500 + [1]*500)\n",
    "\n",
    "print(rand_data.shape)"
   ]
  },
  {
   "cell_type": "code",
   "execution_count": null,
   "metadata": {},
   "outputs": [],
   "source": [
    "train_ratio, val_ratio = 0.9, 0.05\n",
    "\n",
    "x_train = rand_data[:int(rand_data.shape[0]*train_ration, ...)]\n",
    "y_train = rand_label[:int(rand_data.shape[0]*train_ration, ...)]\n",
    "\n",
    "x_val = rand_data[:int(rand_data.shape[0]*train_ration, ...)]"
   ]
  }
 ],
 "metadata": {
  "kernelspec": {
   "display_name": "Python 3",
   "language": "python",
   "name": "python3"
  },
  "language_info": {
   "codemirror_mode": {
    "name": "ipython",
    "version": 3
   },
   "file_extension": ".py",
   "mimetype": "text/x-python",
   "name": "python",
   "nbconvert_exporter": "python",
   "pygments_lexer": "ipython3",
   "version": "3.7.3"
  }
 },
 "nbformat": 4,
 "nbformat_minor": 2
}
